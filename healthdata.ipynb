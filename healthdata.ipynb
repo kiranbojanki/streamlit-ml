{
 "cells": [
  {
   "cell_type": "code",
   "execution_count": 2,
   "id": "9149dff4-99d0-4a42-9262-9075e6920ba7",
   "metadata": {},
   "outputs": [
    {
     "name": "stdout",
     "output_type": "stream",
     "text": [
      "Accuracy: 0.51\n",
      "\n",
      "Classification Report:\n",
      "               precision    recall  f1-score   support\n",
      "\n",
      "           0       0.15      0.06      0.09       298\n",
      "           1       0.60      0.76      0.67      1217\n",
      "           2       0.22      0.15      0.18       485\n",
      "\n",
      "    accuracy                           0.51      2000\n",
      "   macro avg       0.33      0.33      0.31      2000\n",
      "weighted avg       0.44      0.51      0.47      2000\n",
      "\n"
     ]
    }
   ],
   "source": [
    "import pandas as pd\n",
    "from sklearn.model_selection import train_test_split\n",
    "from sklearn.preprocessing import LabelEncoder\n",
    "from sklearn.impute import SimpleImputer\n",
    "from sklearn.ensemble import RandomForestClassifier\n",
    "from sklearn.metrics import classification_report, accuracy_score\n",
    "\n",
    "# Load the dataset\n",
    "file_path = r\"C:\\Users\\seshu\\Desktop\\kiran ml\\medical_conditions_dataset.csv\"\n",
    "data = pd.read_csv(file_path)\n",
    "\n",
    "# Drop unnecessary columns\n",
    "data = data.drop(columns=['id', 'full_name'])\n",
    "\n",
    "# Handle missing values\n",
    "# Age and BMI will be filled with the median, while blood_pressure and glucose_levels with their mean\n",
    "imputer_median = SimpleImputer(strategy='median')\n",
    "imputer_mean = SimpleImputer(strategy='mean')\n",
    "\n",
    "data['age'] = imputer_median.fit_transform(data[['age']])\n",
    "data['bmi'] = imputer_median.fit_transform(data[['bmi']])\n",
    "data['blood_pressure'] = imputer_mean.fit_transform(data[['blood_pressure']])\n",
    "data['glucose_levels'] = imputer_mean.fit_transform(data[['glucose_levels']])\n",
    "\n",
    "# Encode categorical features\n",
    "label_encoder = LabelEncoder()\n",
    "data['gender'] = label_encoder.fit_transform(data['gender'])\n",
    "data['smoking_status'] = label_encoder.fit_transform(data['smoking_status'])\n",
    "data['condition'] = label_encoder.fit_transform(data['condition'])\n",
    "\n",
    "# Split the dataset into features (X) and target (y)\n",
    "X = data.drop(columns=['condition'])\n",
    "y = data['condition']\n",
    "\n",
    "# Split the dataset into training and test sets\n",
    "X_train, X_test, y_train, y_test = train_test_split(X, y, test_size=0.2, random_state=42)\n",
    "\n",
    "# Train a Random Forest Classifier\n",
    "clf = RandomForestClassifier(random_state=42)\n",
    "clf.fit(X_train, y_train)\n",
    "\n",
    "# Make predictions on the test set\n",
    "y_pred = clf.predict(X_test)\n",
    "\n",
    "# Evaluate the model\n",
    "print(\"Accuracy:\", accuracy_score(y_test, y_pred))\n",
    "print(\"\\nClassification Report:\\n\", classification_report(y_test, y_pred))\n"
   ]
  },
  {
   "cell_type": "code",
   "execution_count": 3,
   "id": "2f05fddc-2f2c-4bf7-9445-6af045e4a251",
   "metadata": {},
   "outputs": [
    {
     "name": "stdout",
     "output_type": "stream",
     "text": [
      "Accuracy: 0.51\n",
      "\n",
      "Classification Report:\n",
      "               precision    recall  f1-score   support\n",
      "\n",
      "           0       0.15      0.06      0.09       298\n",
      "           1       0.60      0.76      0.67      1217\n",
      "           2       0.22      0.15      0.18       485\n",
      "\n",
      "    accuracy                           0.51      2000\n",
      "   macro avg       0.33      0.33      0.31      2000\n",
      "weighted avg       0.44      0.51      0.47      2000\n",
      "\n"
     ]
    }
   ],
   "source": []
  },
  {
   "cell_type": "code",
   "execution_count": 5,
   "id": "35291708-b3b2-417e-9625-b30159ef5d01",
   "metadata": {},
   "outputs": [
    {
     "name": "stdout",
     "output_type": "stream",
     "text": [
      "Model saved to C:\\Users\\seshu\\Desktop\\kiran ml\\random_forest_model.joblib\n"
     ]
    }
   ],
   "source": [
    "import joblib\n",
    "\n",
    "# Save the model to a file\n",
    "model_file_path = r\"C:\\Users\\seshu\\Desktop\\kiran ml\\random_forest_model.joblib\"\n",
    "joblib.dump(clf, model_file_path)\n",
    "\n",
    "print(f\"Model saved to {model_file_path}\")\n"
   ]
  },
  {
   "cell_type": "code",
   "execution_count": null,
   "id": "80b885f9-82c9-4943-88ed-730b7178acb0",
   "metadata": {},
   "outputs": [],
   "source": []
  }
 ],
 "metadata": {
  "kernelspec": {
   "display_name": "Python 3 (ipykernel)",
   "language": "python",
   "name": "python3"
  },
  "language_info": {
   "codemirror_mode": {
    "name": "ipython",
    "version": 3
   },
   "file_extension": ".py",
   "mimetype": "text/x-python",
   "name": "python",
   "nbconvert_exporter": "python",
   "pygments_lexer": "ipython3",
   "version": "3.11.7"
  }
 },
 "nbformat": 4,
 "nbformat_minor": 5
}
